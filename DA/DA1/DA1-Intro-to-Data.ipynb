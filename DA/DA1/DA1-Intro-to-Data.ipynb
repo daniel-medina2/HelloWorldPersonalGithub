{
 "cells": [
  {
   "cell_type": "markdown",
   "metadata": {},
   "source": [
    "# [CPSC 222](https://github.com/GonzagaCPSC222) Intro to Data Science\n",
    "[Gonzaga University](https://www.gonzaga.edu/)\n",
    "\n",
    "[Gina Sprint](http://cs.gonzaga.edu/faculty/sprint/)\n",
    "## DA1 Intro to Data (50 pts)\n",
    "\n",
    "## Learner Objectives\n",
    "At the conclusion of this programming assignment, participants should be able to:\n",
    "* Work with loops, lists, and user input in Python\n",
    "* Compute standard summary statistics\n",
    "* Brainstorm sources of data\n",
    "* Consider ethical implications of new technologies\n",
    "\n",
    "## Prerequisites\n",
    "Before starting this programming assignment, participants should be able to:\n",
    "* Use variables, operators, conditionals, and loops in Python\n",
    "* Run Python program in VS Code\n",
    "* Submit assignments via Github Classroom\n",
    "\n",
    "## Acknowledgments\n",
    "Content used in this assignment is based upon information in the following sources:\n",
    "* None"
   ]
  },
  {
   "cell_type": "markdown",
   "metadata": {},
   "source": [
    "## Github Classroom Setup\n",
    "For this assignment, you will use GitHub Classroom to create a private code repositories to track code changes and submit your assignment. Open this DA1 link to accept the assignment and create a private repository for your assignment in Github classroom: https://classroom.github.com/a/RSO-Be5w\n",
    "\n",
    "Your repo, for example, will be named GonzagaCPSC222/da1-yourusername (where yourusername is your Github username). I highly recommend committing/pushing regularly so your work is always backed up. We will grade your most recent commit, even if that commit is after the due date (your work will be marked late if this is the case)."
   ]
  },
  {
   "cell_type": "markdown",
   "metadata": {},
   "source": [
    "## Canvas Discussion Post (5 pts)\n",
    "Make a comment on the \"DA1 Canvas Discussion Introduction Comment\" in our class' Canvas Discussion. Instructions for what to include in the comment are in that originating thread post. "
   ]
  },
  {
   "cell_type": "markdown",
   "metadata": {},
   "source": [
    "## Programming (30 pts)\n",
    "Write a program (main.py) that declares a list with the following floating point numbers: 12.8, 2.3, 2.5, 10.6, 0.0, 11.8, 11.3, 5.8, 4.7, 10.8, 17.3, 0.0, 5.9\n",
    "\n",
    "Note: these are the current Gonzaga Men's Basketball Team per-player average points per game from ESPN: https://www.espn.com/mens-college-basketball/team/stats/_/id/2250 I've shuffled this list though so they aren't in sorted order anymore though. Go zags!\n",
    "\n",
    "Using your declared list of floats, write code to solve the following tasks. For this first assignment, you do not need to write your own functions to organize your code solutions (with the exception of the bonus -- see below), though you are encouraged to do so if you are comfortable enough with Python at this point. \n",
    "\n",
    "### Task 1\n",
    "Write code to display the list and sort the list in descending order (like on the ESPN website, where we have our top scorer Grahame Ike at the top). \n",
    "\n",
    "### Task 2\n",
    "Compute and display the following statistics summarizing the above list of numbers (the only module you may use to compute these statistics is the `math` module... that means no `statistics`, `numpy`, `scipy`, `pandas`, etc...):\n",
    "* Count of the numbers (e.g., the number of numbers; not the total/sum)\n",
    "* Average (mean) of the numbers\n",
    "* Median number\n",
    "* Smallest and largest numbers\n",
    "\n",
    "Note: you don't need loops to calculate any of the above statistics. Try using the built-in functions. \n",
    "\n",
    "Each statistic should have an informative string label displayed in front of it and should be rounded to 2 decimals places. Check your answers against a desk check (compute the stats by hand) and/or using Excel.\n",
    "\n",
    "### Task 3\n",
    "Prompt the user to enter a starting value (start) and an ending value (end). Replace all the values in the list that are between [start, stop] inclusive with the value 0. Then print the list to inform and show the user the modified list.\n",
    "\n",
    "### Bonus (3 pts)\n",
    "Define and call a function named `print_reverse_bonus(alist)` that accepts a list of values. Your function should use a loop to print out the list parameter's items in reverse in the following format (all on one line, numbers separated by ` ~ `: `5.1 ~ 11.8 ~ 1.0 ~ 1.8 ~ 0.7 ~ 4.3 ~ 11.2 ~ 7.3 ~ 18.4 ~ 11.8 ~ 0.1 ~ 14.1 ~ 0.9 ~ 2.4`\n",
    "\n",
    "Do not use `reverse()` to do this. You must write your own loop to solve this problem."
   ]
  },
  {
   "cell_type": "markdown",
   "metadata": {},
   "source": [
    "## Project Part 1 (10 pts)\n",
    "We are starting the data science project in this class early! The project is called \"Quantified Self\" and for this project you are going to create and analyze your own dataset by collecting longitudinal data (data collected over time) on yourself. This first part of the project is to get your creative juices flowing regarding what data on yourself you want to collect (and later analyze). There are two different types of data sources that can be used to collect data on yourself:\n",
    "\n",
    "### Automatic Data Sources\n",
    "These data sources are software/hardware systems that automatically collect the data and provide an interface for accessing/downloading the data. For example, can you export data from an app you regularly use related to fitness, sleep, screen usage, web browsing history, games, budgeting/banking, etc. Examples from past projects include:\n",
    "* [Fitbit (or similar, like Apple Health or Strava or myFitnessPal)](https://www.fitbit.com/settings/data/export): download automatically tracked exercise/health data from the app and your wearable:\n",
    "<img src=\"https://github.com/GonzagaCPSC222/DAs/raw/master/figures/fitbit_data_download.png\" width=\"400\">\n",
    "\n",
    "* [Spotify (or similar, like Apple Music)](https://www.spotify.com/us/account/privacy/): download music streaming data\n",
    "<img src=\"https://github.com/GonzagaCPSC222/DAs/raw/master/figures/spotify_data_download.png\" width=\"400\">\n",
    "\n",
    "* [Google Takeout](https://takeout.google.com/): download data from various Google services, like Timeline/location history and YouTube viewing history\n",
    "<img src=\"https://github.com/GonzagaCPSC222/DAs/raw/master/figures/google_data_download.png\" width=\"400\">\n",
    "\n",
    "* [Discord](https://discord.com/channels/@me): download usage data, like message content and activity\n",
    "<img src=\"https://github.com/GonzagaCPSC222/DAs/raw/master/figures/discord_data_download.png\" width=\"400\">\n",
    "\n",
    "* [Netflix](https://help.netflix.com/en/node/101917): download viewing history (image from [here](https://www.makeuseof.com/tag/how-to-download-netflix-viewing-history/))\n",
    "<img src=\"https://github.com/GonzagaCPSC222/DAs/raw/master/figures/netflix_data_download.png\" width=\"400\">\n",
    "\n",
    "* Financial habits/spending history (scrubbed for class use)\n",
    "    * Debit card transactions\n",
    "    * Bulldog Bucks transactions \n",
    "    * Venmo transactions\n",
    "    * Investments portfolio\n",
    "* Typing tests\n",
    "* Discord usage\n",
    "* Gonzaga building access via keycard logs obtained from Gonzaga's Plant Services (scrubbed for class use)\n",
    "* Starbucks orders\n",
    "* Airplane flying logbooks\n",
    "* iPhone/app screen time\n",
    "* Water and food macro-nutrient intake\n",
    "* Gym workout logs\n",
    "* (No one has done this yet...) Email analysis from Gmail or Outlook (chat with me if you are interested)\n",
    "* (No one has done this yet...) Zoom usage reports (chat with me if you are interested)\n",
    "\n",
    "Note: some sites have a quick turnaround for exporting your data, some take a while. It is best to try and export what you might want early!\n",
    "\n",
    "### Manual Data Sources\n",
    "These data sources are not automated and require you to manually collect the data at regular intervals or when an event of interest occurs. For example, is there an aspect of your life you'd like to track but don't have an app or software system in place (yet) to automate the process? You can collect data manually via a paper/pencil log, an app, or a spreadsheet. Examples from past projects include:\n",
    "* Log your water/food consumption\n",
    "* Log your study hours\n",
    "* Log your app/laptop/TV screen time\n",
    "* Log your relaxation/stress levels\n",
    "\n",
    "Note: if you are thinking of using a manual data source, start collecting data now to ensure you have a large enough sample!\n",
    "\n",
    "### Potential Data Analysis\n",
    "For your data source, think about what interesting questions could be mined from its data. Make sure this data has multiple attributes (e.g. is mult-dimensional) and is somewhat complex! For the Fitbit example, here are some ideas:\n",
    "1. Do you get more exercise on the weekend? What about the holidays? What about when you have exams?\n",
    "1. Is the amount of exercise you get correlated with the weather? You could merge this dataset with historical weather data we grab later.\n",
    "1. How do your exercise habits compare to your friends/family? You could create groups of \"study participants\" if we can get this data from other people (with their consent of course!)\n",
    "\n",
    "In a **PDF document called project_part1.pdf**, provide a list of at least three different data sources that you think could be a great fit for the Quantified Self project. For each data source, provide the following information:\n",
    "1. Is the data source automatic or manual?\n",
    "1. How will the data be collected? If this is an automatic data source, provide a screenshot of example data you are able to download.\n",
    "1. At what interval is the data collected? (e.g. minute-by-minute, daily, at each meal, etc.)\n",
    "1. What are different attributes/dimensions of the data? For the Fitbit example, this would be steps, heart rate, calories burned, sleep levels, etc.)\n",
    "1. Why are you interested in this data source and what would you hope to learn from your analysis of your own data collected from it?\n",
    "\n",
    "This write-up should be written using full sentences and should be grammatically correct. Proof read your writing before you submit it!!"
   ]
  },
  {
   "cell_type": "markdown",
   "metadata": {},
   "source": [
    "## Data Ethics (10 pts)\n",
    "Read [I Was Wrong about the Ethics Crisis: Is Big Tech supporting the public good, and if not, what should Big Tech workers do about it?](https://cacm.acm.org/opinion/i-was-wrong-about-the-ethics-crisis/). This article was published in a recent issue of [The Communications of the ACM](https://cacm.acm.org/). The ACM is the go-to professional society for computer scientists. \n",
    "\n",
    "Please note that this article is a super short op-ed. Please read it directly and resist the urge to use AI to summarize it. Also, while I don't mind if you use AI to work with you to brainstorm ideas, **please do not outsource your thinking and writing to AI.** If you do use AI in any capacity, you must cite your use of it.\n",
    "\n",
    "In a **PDF document called ethics.pdf**, provide your reflection on the following discussion points:\n",
    "1. Peruse the [ACM Code of Ethics](https://www.acm.org/code-of-ethics) that the author cites. Have you read a professional code of ethics before? Which three principles/responsibilities do you think are most important for fresh college grads entering the tech industry today? Why?\n",
    "1. What do you think of the parallel the author draws between Big Tobacco and Big Tech? In this context, is it a fair comparison? Why or why not?\n",
    "1. What are your career aspirations? Are you considering working at a Big Tech company? What are \"hard questions\" you think current and aspiring Big Tech workers should be asking themselves? \n",
    "\n",
    "Your reflection write-up should be written using full sentences and should be grammaticallly correct. Proof read your writing before you submit it!!"
   ]
  },
  {
   "cell_type": "markdown",
   "metadata": {},
   "source": [
    "## Submitting Assignments\n",
    "1. Turn in your assignment files via a Github Classroom repo. See the \"Github Classroom Setup\" section at the beginning of this document for details on how to do this.\n",
    "    1. Your repo should contain all of the files needed to run and test your solution (e.g. .py file(s), input files, etc.).\n",
    "    1. Double-check that this is the case by \"pretending to be the grader\": clone (or download a zip) your submission repo and run your code like when we grade it.\n",
    "1. Submit this PA’s associated assignment in Canvas to mark your PA as \"done\" and ready for grading. We will then pull your Github repo and grade your PA as soon as possible. The date and time you submit the PA assignment in Canvas will be used for marking your assignment as \"late\" or \"on-time.\""
   ]
  },
  {
   "cell_type": "markdown",
   "metadata": {},
   "source": [
    "## Grading Guidelines\n",
    "This assignment is worth 50 points + 3 points bonus. Your assignment will be evaluated based on a successful execution using the Anaconda Python Distribution (Python v3.12) from command line (e.g., with `python main.py`) and adherence to the program requirements. We will grade according to the following criteria:\n",
    "* 5 pts for posting a comment in Canvas Discussion\n",
    "* 3 pts for printing the original list and the list sorted in descending order\n",
    "* 12 pts for correct summary statistics (3 pts per stat)\n",
    "* 5 pts for prompting the user and modifying the list\n",
    "* 5 pts for adherence to course [coding standard](https://nbviewer.jupyter.org/github/GonzagaCPSC222/DAs/blob/master/Coding%20Standard.ipynb)\n",
    "* 10 pts for quality, clarity, and creativity in the project part write-up\n",
    "* 10 pts for quality, clarity, and creativity in the data ethics write-up"
   ]
  }
 ],
 "metadata": {
  "anaconda-cloud": {},
  "kernelspec": {
   "display_name": "Python 3 (ipykernel)",
   "language": "python",
   "name": "python3"
  },
  "language_info": {
   "codemirror_mode": {
    "name": "ipython",
    "version": 3
   },
   "file_extension": ".py",
   "mimetype": "text/x-python",
   "name": "python",
   "nbconvert_exporter": "python",
   "pygments_lexer": "ipython3",
   "version": "3.9.7"
  }
 },
 "nbformat": 4,
 "nbformat_minor": 4
}
